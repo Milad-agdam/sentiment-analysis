{
 "cells": [
  {
   "cell_type": "code",
   "execution_count": 74,
   "metadata": {},
   "outputs": [],
   "source": [
    "import nltk\n",
    "import pandas as pd\n",
    "import re\n",
    "import string\n",
    "from nltk.corpus import stopwords\n",
    "from nltk.stem import WordNetLemmatizer\n",
    "from nltk.sentiment import SentimentIntensityAnalyzer\n",
    "import emoji\n",
    "import matplotlib.pyplot as plt\n",
    "\n",
    "\n",
    "\n"
   ]
  },
  {
   "cell_type": "code",
   "execution_count": 57,
   "metadata": {},
   "outputs": [],
   "source": [
    "df = pd.read_csv('output.csv')"
   ]
  },
  {
   "cell_type": "code",
   "execution_count": 58,
   "metadata": {},
   "outputs": [
    {
     "data": {
      "text/html": [
       "<div>\n",
       "<style scoped>\n",
       "    .dataframe tbody tr th:only-of-type {\n",
       "        vertical-align: middle;\n",
       "    }\n",
       "\n",
       "    .dataframe tbody tr th {\n",
       "        vertical-align: top;\n",
       "    }\n",
       "\n",
       "    .dataframe thead th {\n",
       "        text-align: right;\n",
       "    }\n",
       "</style>\n",
       "<table border=\"1\" class=\"dataframe\">\n",
       "  <thead>\n",
       "    <tr style=\"text-align: right;\">\n",
       "      <th></th>\n",
       "      <th>comment</th>\n",
       "    </tr>\n",
       "  </thead>\n",
       "  <tbody>\n",
       "    <tr>\n",
       "      <th>0</th>\n",
       "      <td>Always good food from Hoagies, love their chic...</td>\n",
       "    </tr>\n",
       "    <tr>\n",
       "      <th>1</th>\n",
       "      <td>Fried pickles and honey mayo - amazing</td>\n",
       "    </tr>\n",
       "    <tr>\n",
       "      <th>2</th>\n",
       "      <td>Great value and yummy food. Falafal burger was...</td>\n",
       "    </tr>\n",
       "    <tr>\n",
       "      <th>3</th>\n",
       "      <td>Yummy</td>\n",
       "    </tr>\n",
       "    <tr>\n",
       "      <th>4</th>\n",
       "      <td>The food is consistently excellent and the sta...</td>\n",
       "    </tr>\n",
       "  </tbody>\n",
       "</table>\n",
       "</div>"
      ],
      "text/plain": [
       "                                             comment\n",
       "0  Always good food from Hoagies, love their chic...\n",
       "1             Fried pickles and honey mayo - amazing\n",
       "2  Great value and yummy food. Falafal burger was...\n",
       "3                                              Yummy\n",
       "4  The food is consistently excellent and the sta..."
      ]
     },
     "execution_count": 58,
     "metadata": {},
     "output_type": "execute_result"
    }
   ],
   "source": [
    "df.head()"
   ]
  },
  {
   "cell_type": "code",
   "execution_count": 59,
   "metadata": {},
   "outputs": [
    {
     "data": {
      "text/plain": [
       "(72736, 1)"
      ]
     },
     "execution_count": 59,
     "metadata": {},
     "output_type": "execute_result"
    }
   ],
   "source": [
    "df.shape"
   ]
  },
  {
   "cell_type": "code",
   "execution_count": 60,
   "metadata": {},
   "outputs": [
    {
     "data": {
      "text/plain": [
       "comment    0\n",
       "dtype: int64"
      ]
     },
     "execution_count": 60,
     "metadata": {},
     "output_type": "execute_result"
    }
   ],
   "source": [
    "# detect rows with missing reviews\n",
    "df.isnull().sum()"
   ]
  },
  {
   "cell_type": "code",
   "execution_count": 61,
   "metadata": {},
   "outputs": [],
   "source": [
    "def clean_text(text):\n",
    "    # Convert text to lowercase\n",
    "    text = text.lower()\n",
    "    # Remove numbers\n",
    "    text = re.sub(r'\\d+', '', text)\n",
    "    # Remove punctuation\n",
    "    text = text.translate(str.maketrans('', '', string.punctuation))\n",
    "    # Remove whitespaces\n",
    "    text = text.strip()\n",
    "    return text\n",
    "    \n",
    "    "
   ]
  },
  {
   "cell_type": "code",
   "execution_count": 62,
   "metadata": {},
   "outputs": [],
   "source": [
    "def tokenize(text):\n",
    "    # split the text into individual words\n",
    "    return text.split()"
   ]
  },
  {
   "cell_type": "code",
   "execution_count": 63,
   "metadata": {},
   "outputs": [],
   "source": [
    "stop_words = set(stopwords.words('english'))\n",
    "\n",
    "def remove_stopwords(tokens):\n",
    "    #Remove common words that usually don’t carry important meaning.\n",
    "    return [word for word in tokens if not word in stop_words]"
   ]
  },
  {
   "cell_type": "code",
   "execution_count": 64,
   "metadata": {},
   "outputs": [],
   "source": [
    "lemmatizer = WordNetLemmatizer()\n",
    "\n",
    "def lemmatize_tokens(tokens):\n",
    "    return [lemmatizer.lemmatize(token) for token in tokens]"
   ]
  },
  {
   "cell_type": "code",
   "execution_count": 65,
   "metadata": {},
   "outputs": [],
   "source": [
    "def rejoin_tokens(tokens):\n",
    "    return ' '.join(tokens)"
   ]
  },
  {
   "cell_type": "code",
   "execution_count": 66,
   "metadata": {},
   "outputs": [],
   "source": [
    "def remove_emojis(text):\n",
    "    # Remove emojis from the text\n",
    "    cleaned_text = emoji.demojize(text)\n",
    "    return cleaned_text"
   ]
  },
  {
   "cell_type": "code",
   "execution_count": 67,
   "metadata": {},
   "outputs": [],
   "source": [
    "positive_words = set([\"legend\",\"good\", \"excellent\", \"awesome\", \"amazing\", \"fantastic\", \"finest\", \"fantastic\", \"quick\"])\n",
    "\n",
    "# Function to adjust sentiment based on positive words\n",
    "def adjust_sentiment_based_on_positive_words(text, sentiment_score):\n",
    "    # Check if any positive words are present in the text\n",
    "    if any(word in text for word in positive_words):\n",
    "        # Increase the sentiment score (adjust as needed)\n",
    "        sentiment_score += 0.1\n",
    "    return sentiment_score"
   ]
  },
  {
   "cell_type": "code",
   "execution_count": 68,
   "metadata": {},
   "outputs": [],
   "source": [
    "def preprocess_pipeline(text):\n",
    "    # Chain your preprocessing functions\n",
    "    text = clean_text(text)\n",
    "    tokens = tokenize(text)\n",
    "    tokens = remove_stopwords(tokens)\n",
    "    tokens = lemmatize_tokens(tokens)\n",
    "    text = rejoin_tokens(tokens)\n",
    "    text = remove_emojis(text)\n",
    "    return text\n",
    "\n"
   ]
  },
  {
   "cell_type": "code",
   "execution_count": 69,
   "metadata": {},
   "outputs": [],
   "source": [
    "# Apply the preprocessing pipeline to your text column\n",
    "df['cleaned_review'] = df['comment'].apply(preprocess_pipeline)"
   ]
  },
  {
   "cell_type": "code",
   "execution_count": 70,
   "metadata": {},
   "outputs": [
    {
     "data": {
      "text/html": [
       "<div>\n",
       "<style scoped>\n",
       "    .dataframe tbody tr th:only-of-type {\n",
       "        vertical-align: middle;\n",
       "    }\n",
       "\n",
       "    .dataframe tbody tr th {\n",
       "        vertical-align: top;\n",
       "    }\n",
       "\n",
       "    .dataframe thead th {\n",
       "        text-align: right;\n",
       "    }\n",
       "</style>\n",
       "<table border=\"1\" class=\"dataframe\">\n",
       "  <thead>\n",
       "    <tr style=\"text-align: right;\">\n",
       "      <th></th>\n",
       "      <th>comment</th>\n",
       "      <th>cleaned_review</th>\n",
       "    </tr>\n",
       "  </thead>\n",
       "  <tbody>\n",
       "    <tr>\n",
       "      <th>0</th>\n",
       "      <td>Always good food from Hoagies, love their chic...</td>\n",
       "      <td>always good food hoagy love chicken burger fry...</td>\n",
       "    </tr>\n",
       "    <tr>\n",
       "      <th>1</th>\n",
       "      <td>Fried pickles and honey mayo - amazing</td>\n",
       "      <td>fried pickle honey mayo amazing</td>\n",
       "    </tr>\n",
       "    <tr>\n",
       "      <th>2</th>\n",
       "      <td>Great value and yummy food. Falafal burger was...</td>\n",
       "      <td>great value yummy food falafal burger yum reco...</td>\n",
       "    </tr>\n",
       "    <tr>\n",
       "      <th>3</th>\n",
       "      <td>Yummy</td>\n",
       "      <td>yummy</td>\n",
       "    </tr>\n",
       "    <tr>\n",
       "      <th>4</th>\n",
       "      <td>The food is consistently excellent and the sta...</td>\n",
       "      <td>food consistently excellent staff always reall...</td>\n",
       "    </tr>\n",
       "    <tr>\n",
       "      <th>...</th>\n",
       "      <td>...</td>\n",
       "      <td>...</td>\n",
       "    </tr>\n",
       "    <tr>\n",
       "      <th>72731</th>\n",
       "      <td>Really enjoyed our food. All freshly made and ...</td>\n",
       "      <td>really enjoyed food freshly made tasty ready q...</td>\n",
       "    </tr>\n",
       "    <tr>\n",
       "      <th>72732</th>\n",
       "      <td>This place is rotten 12inch munchie box in bin...</td>\n",
       "      <td>place rotten inch munchie box bin plus menu bo...</td>\n",
       "    </tr>\n",
       "    <tr>\n",
       "      <th>72733</th>\n",
       "      <td>What a gem of a takeaway. Food always hot and ...</td>\n",
       "      <td>gem takeaway food always hot delicious staff a...</td>\n",
       "    </tr>\n",
       "    <tr>\n",
       "      <th>72734</th>\n",
       "      <td>Fantastic  !South  indian garlic  chilli is th...</td>\n",
       "      <td>fantastic south indian garlic chilli best bett...</td>\n",
       "    </tr>\n",
       "    <tr>\n",
       "      <th>72735</th>\n",
       "      <td>Fantastic Food &amp; Qui k Delivery...</td>\n",
       "      <td>fantastic food qui k delivery</td>\n",
       "    </tr>\n",
       "  </tbody>\n",
       "</table>\n",
       "<p>72736 rows × 2 columns</p>\n",
       "</div>"
      ],
      "text/plain": [
       "                                                 comment  \\\n",
       "0      Always good food from Hoagies, love their chic...   \n",
       "1                 Fried pickles and honey mayo - amazing   \n",
       "2      Great value and yummy food. Falafal burger was...   \n",
       "3                                                  Yummy   \n",
       "4      The food is consistently excellent and the sta...   \n",
       "...                                                  ...   \n",
       "72731  Really enjoyed our food. All freshly made and ...   \n",
       "72732  This place is rotten 12inch munchie box in bin...   \n",
       "72733  What a gem of a takeaway. Food always hot and ...   \n",
       "72734  Fantastic  !South  indian garlic  chilli is th...   \n",
       "72735                 Fantastic Food & Qui k Delivery...   \n",
       "\n",
       "                                          cleaned_review  \n",
       "0      always good food hoagy love chicken burger fry...  \n",
       "1                        fried pickle honey mayo amazing  \n",
       "2      great value yummy food falafal burger yum reco...  \n",
       "3                                                  yummy  \n",
       "4      food consistently excellent staff always reall...  \n",
       "...                                                  ...  \n",
       "72731  really enjoyed food freshly made tasty ready q...  \n",
       "72732  place rotten inch munchie box bin plus menu bo...  \n",
       "72733  gem takeaway food always hot delicious staff a...  \n",
       "72734  fantastic south indian garlic chilli best bett...  \n",
       "72735                      fantastic food qui k delivery  \n",
       "\n",
       "[72736 rows x 2 columns]"
      ]
     },
     "execution_count": 70,
     "metadata": {},
     "output_type": "execute_result"
    }
   ],
   "source": [
    "df"
   ]
  },
  {
   "cell_type": "code",
   "execution_count": 71,
   "metadata": {},
   "outputs": [],
   "source": [
    "# Initialize the SentimentIntensityAnalyzer\n",
    "sia = SentimentIntensityAnalyzer()\n",
    "\n",
    "# Analyze sentiment and create a new column\n",
    "df['sentiment_score'] = df.apply(lambda row: sia.polarity_scores(row['cleaned_review'])['compound'], axis=1)\n",
    "\n",
    "# Adjust sentiment based on positive words\n",
    "df['sentiment_score'] = df.apply(lambda row: adjust_sentiment_based_on_positive_words(row['cleaned_review'], row['sentiment_score']), axis=1)\n",
    "# Define a function to label sentiments\n",
    "def label_sentiment(score):\n",
    "    if score >= 0.05:\n",
    "        return 'positive'\n",
    "    elif score <= -0.05:\n",
    "        return 'negative'\n",
    "    else:\n",
    "        return 'neutral'\n",
    "\n",
    "# Apply the function to create a new column with sentiment labels\n",
    "df['sentiment_label'] = df['sentiment_score'].apply(label_sentiment)"
   ]
  },
  {
   "cell_type": "code",
   "execution_count": 54,
   "metadata": {},
   "outputs": [
    {
     "data": {
      "text/html": [
       "<div>\n",
       "<style scoped>\n",
       "    .dataframe tbody tr th:only-of-type {\n",
       "        vertical-align: middle;\n",
       "    }\n",
       "\n",
       "    .dataframe tbody tr th {\n",
       "        vertical-align: top;\n",
       "    }\n",
       "\n",
       "    .dataframe thead th {\n",
       "        text-align: right;\n",
       "    }\n",
       "</style>\n",
       "<table border=\"1\" class=\"dataframe\">\n",
       "  <thead>\n",
       "    <tr style=\"text-align: right;\">\n",
       "      <th></th>\n",
       "      <th>comment</th>\n",
       "      <th>cleaned_review</th>\n",
       "      <th>sentiment_score</th>\n",
       "      <th>sentiment_label</th>\n",
       "    </tr>\n",
       "  </thead>\n",
       "  <tbody>\n",
       "    <tr>\n",
       "      <th>10</th>\n",
       "      <td>Finest food in Glasgow.</td>\n",
       "      <td>finest food glasgow</td>\n",
       "      <td>0.0000</td>\n",
       "      <td>neutral</td>\n",
       "    </tr>\n",
       "    <tr>\n",
       "      <th>14</th>\n",
       "      <td>Literal 2 hour wait for food.</td>\n",
       "      <td>literal hour wait food</td>\n",
       "      <td>0.0000</td>\n",
       "      <td>neutral</td>\n",
       "    </tr>\n",
       "    <tr>\n",
       "      <th>15</th>\n",
       "      <td>First time ordering from here, beautiful pulle...</td>\n",
       "      <td>first time ordering beautiful pulled chicken c...</td>\n",
       "      <td>0.0276</td>\n",
       "      <td>neutral</td>\n",
       "    </tr>\n",
       "    <tr>\n",
       "      <th>39</th>\n",
       "      <td>Only decent place open until late in the city</td>\n",
       "      <td>decent place open late city</td>\n",
       "      <td>0.0000</td>\n",
       "      <td>neutral</td>\n",
       "    </tr>\n",
       "    <tr>\n",
       "      <th>77</th>\n",
       "      <td>Decent milkshake if the rite girl serves it</td>\n",
       "      <td>decent milkshake rite girl serf</td>\n",
       "      <td>0.0000</td>\n",
       "      <td>neutral</td>\n",
       "    </tr>\n",
       "    <tr>\n",
       "      <th>...</th>\n",
       "      <td>...</td>\n",
       "      <td>...</td>\n",
       "      <td>...</td>\n",
       "      <td>...</td>\n",
       "    </tr>\n",
       "    <tr>\n",
       "      <th>72682</th>\n",
       "      <td>Thay don’t have proper Chapati flour  thay are...</td>\n",
       "      <td>thay don’t proper chapati flour thay using nan...</td>\n",
       "      <td>0.0000</td>\n",
       "      <td>neutral</td>\n",
       "    </tr>\n",
       "    <tr>\n",
       "      <th>72696</th>\n",
       "      <td>The place is gone down the Hll never ever agai...</td>\n",
       "      <td>place gone hll never ever name khyber need cha...</td>\n",
       "      <td>0.0000</td>\n",
       "      <td>neutral</td>\n",
       "    </tr>\n",
       "    <tr>\n",
       "      <th>72698</th>\n",
       "      <td>I can bet on any of their pizzas to be the bes...</td>\n",
       "      <td>bet pizza best:OK_hand_medium-light_skin_tone:...</td>\n",
       "      <td>0.0000</td>\n",
       "      <td>neutral</td>\n",
       "    </tr>\n",
       "    <tr>\n",
       "      <th>72705</th>\n",
       "      <td>Their spicy chicken pizza is a must try🤌🏼🤌🏼</td>\n",
       "      <td>spicy chicken pizza must try:pinched_fingers_m...</td>\n",
       "      <td>0.0000</td>\n",
       "      <td>neutral</td>\n",
       "    </tr>\n",
       "    <tr>\n",
       "      <th>72722</th>\n",
       "      <td>The driver is a Legend</td>\n",
       "      <td>driver legend</td>\n",
       "      <td>0.0000</td>\n",
       "      <td>neutral</td>\n",
       "    </tr>\n",
       "  </tbody>\n",
       "</table>\n",
       "<p>5487 rows × 4 columns</p>\n",
       "</div>"
      ],
      "text/plain": [
       "                                                 comment  \\\n",
       "10                               Finest food in Glasgow.   \n",
       "14                         Literal 2 hour wait for food.   \n",
       "15     First time ordering from here, beautiful pulle...   \n",
       "39         Only decent place open until late in the city   \n",
       "77           Decent milkshake if the rite girl serves it   \n",
       "...                                                  ...   \n",
       "72682  Thay don’t have proper Chapati flour  thay are...   \n",
       "72696  The place is gone down the Hll never ever agai...   \n",
       "72698  I can bet on any of their pizzas to be the bes...   \n",
       "72705        Their spicy chicken pizza is a must try🤌🏼🤌🏼   \n",
       "72722                             The driver is a Legend   \n",
       "\n",
       "                                          cleaned_review  sentiment_score  \\\n",
       "10                                   finest food glasgow           0.0000   \n",
       "14                                literal hour wait food           0.0000   \n",
       "15     first time ordering beautiful pulled chicken c...           0.0276   \n",
       "39                           decent place open late city           0.0000   \n",
       "77                       decent milkshake rite girl serf           0.0000   \n",
       "...                                                  ...              ...   \n",
       "72682  thay don’t proper chapati flour thay using nan...           0.0000   \n",
       "72696  place gone hll never ever name khyber need cha...           0.0000   \n",
       "72698  bet pizza best:OK_hand_medium-light_skin_tone:...           0.0000   \n",
       "72705  spicy chicken pizza must try:pinched_fingers_m...           0.0000   \n",
       "72722                                      driver legend           0.0000   \n",
       "\n",
       "      sentiment_label  \n",
       "10            neutral  \n",
       "14            neutral  \n",
       "15            neutral  \n",
       "39            neutral  \n",
       "77            neutral  \n",
       "...               ...  \n",
       "72682         neutral  \n",
       "72696         neutral  \n",
       "72698         neutral  \n",
       "72705         neutral  \n",
       "72722         neutral  \n",
       "\n",
       "[5487 rows x 4 columns]"
      ]
     },
     "execution_count": 54,
     "metadata": {},
     "output_type": "execute_result"
    }
   ],
   "source": [
    "df[df['sentiment_label']== 'neutral']"
   ]
  },
  {
   "cell_type": "code",
   "execution_count": 75,
   "metadata": {},
   "outputs": [
    {
     "data": {
      "image/png": "[encoded data removed]",
      "text/plain": [
       "<Figure size 800x600 with 1 Axes>"
      ]
     },
     "metadata": {},
     "output_type": "display_data"
    }
   ],
   "source": [
    "# Count the occurrences of each sentiment label\n",
    "sentiment_counts = df['sentiment_label'].value_counts()\n",
    "\n",
    "# Plot the sentiment distribution\n",
    "plt.figure(figsize=(8, 6))\n",
    "sentiment_counts.plot(kind='bar', color=['red', 'green', 'blue'])\n",
    "plt.title('Sentiment Distribution')\n",
    "plt.xlabel('Sentiment')\n",
    "plt.ylabel('Count')\n",
    "plt.show()"
   ]
  },
  {
   "cell_type": "code",
   "execution_count": 76,
   "metadata": {},
   "outputs": [
    {
     "name": "stdout",
     "output_type": "stream",
     "text": [
      "Sentiment Percentage Breakdown:\n",
      "sentiment_label\n",
      "positive    76.134239\n",
      "negative    16.437527\n",
      "neutral      7.428234\n",
      "Name: count, dtype: float64\n"
     ]
    }
   ],
   "source": [
    "# Calculate the percentage of each sentiment label\n",
    "sentiment_percentages = sentiment_counts / len(df) * 100\n",
    "\n",
    "# Display the percentage breakdown\n",
    "print(\"Sentiment Percentage Breakdown:\")\n",
    "print(sentiment_percentages)"
   ]
  }
 ],
 "metadata": {
  "kernelspec": {
   "display_name": "text",
   "language": "python",
   "name": "python3"
  },
  "language_info": {
   "codemirror_mode": {
    "name": "ipython",
    "version": 3
   },
   "file_extension": ".py",
   "mimetype": "text/x-python",
   "name": "python",
   "nbconvert_exporter": "python",
   "pygments_lexer": "ipython3",
   "version": "3.12.0"
  }
 },
 "nbformat": 4,
 "nbformat_minor": 2
}
