{
 "cells": [
  {
   "cell_type": "code",
   "execution_count": 4,
   "metadata": {},
   "outputs": [],
   "source": [
    "import nltk\n",
    "import pandas as pd\n",
    "import re\n",
    "import string\n",
    "from nltk.corpus import stopwords\n",
    "from nltk.stem import WordNetLemmatizer\n",
    "from nltk.sentiment import SentimentIntensityAnalyzer\n",
    "import emoji\n",
    "import matplotlib.pyplot as plt\n",
    "\n",
    "\n",
    "\n"
   ]
  },
  {
   "cell_type": "code",
   "execution_count": 5,
   "metadata": {},
   "outputs": [],
   "source": [
    "df = pd.read_csv('output.csv')"
   ]
  },
  {
   "cell_type": "code",
   "execution_count": 6,
   "metadata": {},
   "outputs": [
    {
     "data": {
      "text/html": [
       "<div>\n",
       "<style scoped>\n",
       "    .dataframe tbody tr th:only-of-type {\n",
       "        vertical-align: middle;\n",
       "    }\n",
       "\n",
       "    .dataframe tbody tr th {\n",
       "        vertical-align: top;\n",
       "    }\n",
       "\n",
       "    .dataframe thead th {\n",
       "        text-align: right;\n",
       "    }\n",
       "</style>\n",
       "<table border=\"1\" class=\"dataframe\">\n",
       "  <thead>\n",
       "    <tr style=\"text-align: right;\">\n",
       "      <th></th>\n",
       "      <th>comment</th>\n",
       "    </tr>\n",
       "  </thead>\n",
       "  <tbody>\n",
       "    <tr>\n",
       "      <th>0</th>\n",
       "      <td>Always good food from Hoagies, love their chic...</td>\n",
       "    </tr>\n",
       "    <tr>\n",
       "      <th>1</th>\n",
       "      <td>Fried pickles and honey mayo - amazing</td>\n",
       "    </tr>\n",
       "    <tr>\n",
       "      <th>2</th>\n",
       "      <td>Great value and yummy food. Falafal burger was...</td>\n",
       "    </tr>\n",
       "    <tr>\n",
       "      <th>3</th>\n",
       "      <td>Yummy</td>\n",
       "    </tr>\n",
       "    <tr>\n",
       "      <th>4</th>\n",
       "      <td>The food is consistently excellent and the sta...</td>\n",
       "    </tr>\n",
       "  </tbody>\n",
       "</table>\n",
       "</div>"
      ],
      "text/plain": [
       "                                             comment\n",
       "0  Always good food from Hoagies, love their chic...\n",
       "1             Fried pickles and honey mayo - amazing\n",
       "2  Great value and yummy food. Falafal burger was...\n",
       "3                                              Yummy\n",
       "4  The food is consistently excellent and the sta..."
      ]
     },
     "execution_count": 6,
     "metadata": {},
     "output_type": "execute_result"
    }
   ],
   "source": [
    "df.head()"
   ]
  },
  {
   "cell_type": "code",
   "execution_count": 7,
   "metadata": {},
   "outputs": [
    {
     "data": {
      "text/plain": [
       "(72736, 1)"
      ]
     },
     "execution_count": 7,
     "metadata": {},
     "output_type": "execute_result"
    }
   ],
   "source": [
    "df.shape"
   ]
  },
  {
   "cell_type": "code",
   "execution_count": 8,
   "metadata": {},
   "outputs": [
    {
     "data": {
      "text/plain": [
       "comment    0\n",
       "dtype: int64"
      ]
     },
     "execution_count": 8,
     "metadata": {},
     "output_type": "execute_result"
    }
   ],
   "source": [
    "# detect rows with missing reviews\n",
    "df.isnull().sum()"
   ]
  },
  {
   "cell_type": "code",
   "execution_count": 9,
   "metadata": {},
   "outputs": [],
   "source": [
    "def clean_text(text):\n",
    "    # Convert text to lowercase\n",
    "    text = text.lower()\n",
    "    # Remove numbers\n",
    "    text = re.sub(r'\\d+', '', text)\n",
    "    # Remove punctuation\n",
    "    text = text.translate(str.maketrans('', '', string.punctuation))\n",
    "    # Remove whitespaces\n",
    "    text = text.strip()\n",
    "    return text\n",
    "    \n",
    "    "
   ]
  },
  {
   "cell_type": "code",
   "execution_count": 10,
   "metadata": {},
   "outputs": [],
   "source": [
    "def tokenize(text):\n",
    "    # split the text into individual words\n",
    "    return text.split()"
   ]
  },
  {
   "cell_type": "code",
   "execution_count": 11,
   "metadata": {},
   "outputs": [],
   "source": [
    "stop_words = set(stopwords.words('english'))\n",
    "\n",
    "def remove_stopwords(tokens):\n",
    "    #Remove common words that usually don’t carry important meaning.\n",
    "    return [word for word in tokens if not word in stop_words]"
   ]
  },
  {
   "cell_type": "code",
   "execution_count": 12,
   "metadata": {},
   "outputs": [],
   "source": [
    "lemmatizer = WordNetLemmatizer()\n",
    "\n",
    "def lemmatize_tokens(tokens):\n",
    "    return [lemmatizer.lemmatize(token) for token in tokens]"
   ]
  },
  {
   "cell_type": "code",
   "execution_count": 13,
   "metadata": {},
   "outputs": [],
   "source": [
    "def rejoin_tokens(tokens):\n",
    "    return ' '.join(tokens)"
   ]
  },
  {
   "cell_type": "code",
   "execution_count": 14,
   "metadata": {},
   "outputs": [],
   "source": [
    "def remove_emojis(text):\n",
    "    # Remove emojis from the text\n",
    "    cleaned_text = emoji.demojize(text)\n",
    "    return cleaned_text"
   ]
  },
  {
   "cell_type": "code",
   "execution_count": 15,
   "metadata": {},
   "outputs": [],
   "source": [
    "positive_words = set([\"legend\",\"good\", \"excellent\", \"awesome\", \"amazing\", \"fantastic\", \"finest\", \"fantastic\", \"quick\"])\n",
    "\n",
    "# Function to adjust sentiment based on positive words\n",
    "def adjust_sentiment_based_on_positive_words(text, sentiment_score):\n",
    "    # Check if any positive words are present in the text\n",
    "    if any(word in text for word in positive_words):\n",
    "        # Increase the sentiment score (adjust as needed)\n",
    "        sentiment_score += 0.1\n",
    "    return sentiment_score"
   ]
  },
  {
   "cell_type": "code",
   "execution_count": 16,
   "metadata": {},
   "outputs": [],
   "source": [
    "def preprocess_pipeline(text):\n",
    "    # Chain your preprocessing functions\n",
    "    text = clean_text(text)\n",
    "    tokens = tokenize(text)\n",
    "    tokens = remove_stopwords(tokens)\n",
    "    tokens = lemmatize_tokens(tokens)\n",
    "    text = rejoin_tokens(tokens)\n",
    "    text = remove_emojis(text)\n",
    "    return text\n",
    "\n"
   ]
  },
  {
   "cell_type": "code",
   "execution_count": 17,
   "metadata": {},
   "outputs": [],
   "source": [
    "# Apply the preprocessing pipeline to your text column\n",
    "df['cleaned_review'] = df['comment'].apply(preprocess_pipeline)"
   ]
  },
  {
   "cell_type": "code",
   "execution_count": 18,
   "metadata": {},
   "outputs": [
    {
     "data": {
      "text/html": [
       "<div>\n",
       "<style scoped>\n",
       "    .dataframe tbody tr th:only-of-type {\n",
       "        vertical-align: middle;\n",
       "    }\n",
       "\n",
       "    .dataframe tbody tr th {\n",
       "        vertical-align: top;\n",
       "    }\n",
       "\n",
       "    .dataframe thead th {\n",
       "        text-align: right;\n",
       "    }\n",
       "</style>\n",
       "<table border=\"1\" class=\"dataframe\">\n",
       "  <thead>\n",
       "    <tr style=\"text-align: right;\">\n",
       "      <th></th>\n",
       "      <th>comment</th>\n",
       "      <th>cleaned_review</th>\n",
       "    </tr>\n",
       "  </thead>\n",
       "  <tbody>\n",
       "    <tr>\n",
       "      <th>0</th>\n",
       "      <td>Always good food from Hoagies, love their chic...</td>\n",
       "      <td>always good food hoagy love chicken burger fry...</td>\n",
       "    </tr>\n",
       "    <tr>\n",
       "      <th>1</th>\n",
       "      <td>Fried pickles and honey mayo - amazing</td>\n",
       "      <td>fried pickle honey mayo amazing</td>\n",
       "    </tr>\n",
       "    <tr>\n",
       "      <th>2</th>\n",
       "      <td>Great value and yummy food. Falafal burger was...</td>\n",
       "      <td>great value yummy food falafal burger yum reco...</td>\n",
       "    </tr>\n",
       "    <tr>\n",
       "      <th>3</th>\n",
       "      <td>Yummy</td>\n",
       "      <td>yummy</td>\n",
       "    </tr>\n",
       "    <tr>\n",
       "      <th>4</th>\n",
       "      <td>The food is consistently excellent and the sta...</td>\n",
       "      <td>food consistently excellent staff always reall...</td>\n",
       "    </tr>\n",
       "    <tr>\n",
       "      <th>...</th>\n",
       "      <td>...</td>\n",
       "      <td>...</td>\n",
       "    </tr>\n",
       "    <tr>\n",
       "      <th>72731</th>\n",
       "      <td>Really enjoyed our food. All freshly made and ...</td>\n",
       "      <td>really enjoyed food freshly made tasty ready q...</td>\n",
       "    </tr>\n",
       "    <tr>\n",
       "      <th>72732</th>\n",
       "      <td>This place is rotten 12inch munchie box in bin...</td>\n",
       "      <td>place rotten inch munchie box bin plus menu bo...</td>\n",
       "    </tr>\n",
       "    <tr>\n",
       "      <th>72733</th>\n",
       "      <td>What a gem of a takeaway. Food always hot and ...</td>\n",
       "      <td>gem takeaway food always hot delicious staff a...</td>\n",
       "    </tr>\n",
       "    <tr>\n",
       "      <th>72734</th>\n",
       "      <td>Fantastic  !South  indian garlic  chilli is th...</td>\n",
       "      <td>fantastic south indian garlic chilli best bett...</td>\n",
       "    </tr>\n",
       "    <tr>\n",
       "      <th>72735</th>\n",
       "      <td>Fantastic Food &amp; Qui k Delivery...</td>\n",
       "      <td>fantastic food qui k delivery</td>\n",
       "    </tr>\n",
       "  </tbody>\n",
       "</table>\n",
       "<p>72736 rows × 2 columns</p>\n",
       "</div>"
      ],
      "text/plain": [
       "                                                 comment  \\\n",
       "0      Always good food from Hoagies, love their chic...   \n",
       "1                 Fried pickles and honey mayo - amazing   \n",
       "2      Great value and yummy food. Falafal burger was...   \n",
       "3                                                  Yummy   \n",
       "4      The food is consistently excellent and the sta...   \n",
       "...                                                  ...   \n",
       "72731  Really enjoyed our food. All freshly made and ...   \n",
       "72732  This place is rotten 12inch munchie box in bin...   \n",
       "72733  What a gem of a takeaway. Food always hot and ...   \n",
       "72734  Fantastic  !South  indian garlic  chilli is th...   \n",
       "72735                 Fantastic Food & Qui k Delivery...   \n",
       "\n",
       "                                          cleaned_review  \n",
       "0      always good food hoagy love chicken burger fry...  \n",
       "1                        fried pickle honey mayo amazing  \n",
       "2      great value yummy food falafal burger yum reco...  \n",
       "3                                                  yummy  \n",
       "4      food consistently excellent staff always reall...  \n",
       "...                                                  ...  \n",
       "72731  really enjoyed food freshly made tasty ready q...  \n",
       "72732  place rotten inch munchie box bin plus menu bo...  \n",
       "72733  gem takeaway food always hot delicious staff a...  \n",
       "72734  fantastic south indian garlic chilli best bett...  \n",
       "72735                      fantastic food qui k delivery  \n",
       "\n",
       "[72736 rows x 2 columns]"
      ]
     },
     "execution_count": 18,
     "metadata": {},
     "output_type": "execute_result"
    }
   ],
   "source": [
    "df"
   ]
  },
  {
   "cell_type": "code",
   "execution_count": 19,
   "metadata": {},
   "outputs": [],
   "source": [
    "# Initialize the SentimentIntensityAnalyzer\n",
    "sia = SentimentIntensityAnalyzer()\n",
    "\n",
    "# Analyze sentiment and create a new column\n",
    "df['sentiment_score'] = df.apply(lambda row: sia.polarity_scores(row['cleaned_review'])['compound'], axis=1)\n",
    "\n",
    "# Adjust sentiment based on positive words\n",
    "df['sentiment_score'] = df.apply(lambda row: adjust_sentiment_based_on_positive_words(row['cleaned_review'], row['sentiment_score']), axis=1)\n",
    "# Define a function to label sentiments\n",
    "def label_sentiment(score):\n",
    "    if score >= 0.05:\n",
    "        return 'positive'\n",
    "    elif score <= -0.05:\n",
    "        return 'negative'\n",
    "    else:\n",
    "        return 'neutral'\n",
    "\n",
    "# Apply the function to create a new column with sentiment labels\n",
    "df['sentiment_label'] = df['sentiment_score'].apply(label_sentiment)"
   ]
  },
  {
   "cell_type": "code",
   "execution_count": 20,
   "metadata": {},
   "outputs": [
    {
     "data": {
      "text/html": [
       "<div>\n",
       "<style scoped>\n",
       "    .dataframe tbody tr th:only-of-type {\n",
       "        vertical-align: middle;\n",
       "    }\n",
       "\n",
       "    .dataframe tbody tr th {\n",
       "        vertical-align: top;\n",
       "    }\n",
       "\n",
       "    .dataframe thead th {\n",
       "        text-align: right;\n",
       "    }\n",
       "</style>\n",
       "<table border=\"1\" class=\"dataframe\">\n",
       "  <thead>\n",
       "    <tr style=\"text-align: right;\">\n",
       "      <th></th>\n",
       "      <th>comment</th>\n",
       "      <th>cleaned_review</th>\n",
       "      <th>sentiment_score</th>\n",
       "      <th>sentiment_label</th>\n",
       "    </tr>\n",
       "  </thead>\n",
       "  <tbody>\n",
       "    <tr>\n",
       "      <th>30020</th>\n",
       "      <td>Really greasy stuff</td>\n",
       "      <td>really greasy stuff</td>\n",
       "      <td>0.0</td>\n",
       "      <td>neutral</td>\n",
       "    </tr>\n",
       "    <tr>\n",
       "      <th>69087</th>\n",
       "      <td>Naan cooked in a pizza oven says it all.</td>\n",
       "      <td>naan cooked pizza oven say</td>\n",
       "      <td>0.0</td>\n",
       "      <td>neutral</td>\n",
       "    </tr>\n",
       "    <tr>\n",
       "      <th>3267</th>\n",
       "      <td>Just tried a pizza from here, got a pizza made...</td>\n",
       "      <td>tried pizza got pizza made spicy base extra ch...</td>\n",
       "      <td>0.0</td>\n",
       "      <td>neutral</td>\n",
       "    </tr>\n",
       "    <tr>\n",
       "      <th>15574</th>\n",
       "      <td>Very tasty, man at counter, mustafa should sho...</td>\n",
       "      <td>tasty man counter mustafa shower smelly</td>\n",
       "      <td>0.0</td>\n",
       "      <td>neutral</td>\n",
       "    </tr>\n",
       "    <tr>\n",
       "      <th>17430</th>\n",
       "      <td>Its food is terible plus theyhave a guy still ...</td>\n",
       "      <td>food terible plus theyhave guy still working l...</td>\n",
       "      <td>0.0</td>\n",
       "      <td>neutral</td>\n",
       "    </tr>\n",
       "    <tr>\n",
       "      <th>34814</th>\n",
       "      <td>I’ve just ordered from here for the first time...</td>\n",
       "      <td>i’ve ordered first time believe last time</td>\n",
       "      <td>0.0</td>\n",
       "      <td>neutral</td>\n",
       "    </tr>\n",
       "    <tr>\n",
       "      <th>16221</th>\n",
       "      <td>Quality chicken and cheese baguettes, chicken ...</td>\n",
       "      <td>quality chicken cheese baguette chicken oven b...</td>\n",
       "      <td>0.0</td>\n",
       "      <td>neutral</td>\n",
       "    </tr>\n",
       "    <tr>\n",
       "      <th>60143</th>\n",
       "      <td>Looked forward to a large mixed kebab all day,...</td>\n",
       "      <td>looked forward large mixed kebab day salad mak...</td>\n",
       "      <td>0.0</td>\n",
       "      <td>neutral</td>\n",
       "    </tr>\n",
       "    <tr>\n",
       "      <th>4753</th>\n",
       "      <td>We ordered two LARGE kebabs (one chicken and o...</td>\n",
       "      <td>ordered two large kebab one chicken one mixed ...</td>\n",
       "      <td>0.0</td>\n",
       "      <td>neutral</td>\n",
       "    </tr>\n",
       "    <tr>\n",
       "      <th>53733</th>\n",
       "      <td>All the food was cold!</td>\n",
       "      <td>food cold</td>\n",
       "      <td>0.0</td>\n",
       "      <td>neutral</td>\n",
       "    </tr>\n",
       "  </tbody>\n",
       "</table>\n",
       "</div>"
      ],
      "text/plain": [
       "                                                 comment  \\\n",
       "30020                                Really greasy stuff   \n",
       "69087           Naan cooked in a pizza oven says it all.   \n",
       "3267   Just tried a pizza from here, got a pizza made...   \n",
       "15574  Very tasty, man at counter, mustafa should sho...   \n",
       "17430  Its food is terible plus theyhave a guy still ...   \n",
       "34814  I’ve just ordered from here for the first time...   \n",
       "16221  Quality chicken and cheese baguettes, chicken ...   \n",
       "60143  Looked forward to a large mixed kebab all day,...   \n",
       "4753   We ordered two LARGE kebabs (one chicken and o...   \n",
       "53733                             All the food was cold!   \n",
       "\n",
       "                                          cleaned_review  sentiment_score  \\\n",
       "30020                                really greasy stuff              0.0   \n",
       "69087                         naan cooked pizza oven say              0.0   \n",
       "3267   tried pizza got pizza made spicy base extra ch...              0.0   \n",
       "15574            tasty man counter mustafa shower smelly              0.0   \n",
       "17430  food terible plus theyhave guy still working l...              0.0   \n",
       "34814          i’ve ordered first time believe last time              0.0   \n",
       "16221  quality chicken cheese baguette chicken oven b...              0.0   \n",
       "60143  looked forward large mixed kebab day salad mak...              0.0   \n",
       "4753   ordered two large kebab one chicken one mixed ...              0.0   \n",
       "53733                                          food cold              0.0   \n",
       "\n",
       "      sentiment_label  \n",
       "30020         neutral  \n",
       "69087         neutral  \n",
       "3267          neutral  \n",
       "15574         neutral  \n",
       "17430         neutral  \n",
       "34814         neutral  \n",
       "16221         neutral  \n",
       "60143         neutral  \n",
       "4753          neutral  \n",
       "53733         neutral  "
      ]
     },
     "execution_count": 20,
     "metadata": {},
     "output_type": "execute_result"
    }
   ],
   "source": [
    "df[df['sentiment_label']== 'neutral'].sample(10)"
   ]
  },
  {
   "cell_type": "code",
   "execution_count": 21,
   "metadata": {},
   "outputs": [
    {
     "data": {
      "image/png": "[encoded data removed]",
      "text/plain": [
       "<Figure size 800x600 with 1 Axes>"
      ]
     },
     "metadata": {},
     "output_type": "display_data"
    }
   ],
   "source": [
    "# Count the occurrences of each sentiment label\n",
    "sentiment_counts = df['sentiment_label'].value_counts()\n",
    "\n",
    "# Plot the sentiment distribution\n",
    "plt.figure(figsize=(8, 6))\n",
    "sentiment_counts.plot(kind='bar', color=['red', 'green', 'blue'])\n",
    "plt.title('Sentiment Distribution')\n",
    "plt.xlabel('Sentiment')\n",
    "plt.ylabel('Count')\n",
    "plt.show()"
   ]
  },
  {
   "cell_type": "code",
   "execution_count": 22,
   "metadata": {},
   "outputs": [
    {
     "name": "stdout",
     "output_type": "stream",
     "text": [
      "Sentiment Percentage Breakdown:\n",
      "sentiment_label\n",
      "positive    76.147987\n",
      "negative    16.437527\n",
      "neutral      7.414485\n",
      "Name: count, dtype: float64\n"
     ]
    }
   ],
   "source": [
    "# Calculate the percentage of each sentiment label\n",
    "sentiment_percentages = sentiment_counts / len(df) * 100\n",
    "\n",
    "# Display the percentage breakdown\n",
    "print(\"Sentiment Percentage Breakdown:\")\n",
    "print(sentiment_percentages)"
   ]
  },
  {
   "cell_type": "code",
   "execution_count": 23,
   "metadata": {},
   "outputs": [],
   "source": [
    "import seaborn as sns"
   ]
  },
  {
   "cell_type": "code",
   "execution_count": 24,
   "metadata": {},
   "outputs": [
    {
     "data": {
      "text/plain": [
       "sentiment_label\n",
       "positive    55387\n",
       "negative    11956\n",
       "neutral      5393\n",
       "Name: count, dtype: int64"
      ]
     },
     "execution_count": 24,
     "metadata": {},
     "output_type": "execute_result"
    }
   ],
   "source": [
    "piechart = df['sentiment_label'].value_counts()\n",
    "piechart\n"
   ]
  },
  {
   "cell_type": "code",
   "execution_count": 27,
   "metadata": {},
   "outputs": [],
   "source": [
    "positive = df['sentiment_label'][df['sentiment_label'] == \"positive\"].count()\n",
    "negative = df['sentiment_label'][df['sentiment_label'] == \"negative\"].count()\n",
    "neutral = df['sentiment_label'][df['sentiment_label'] == \"neutral\"].count()"
   ]
  },
  {
   "cell_type": "code",
   "execution_count": 28,
   "metadata": {},
   "outputs": [],
   "source": [
    "counts = [positive,negative, neutral]"
   ]
  },
  {
   "cell_type": "code",
   "execution_count": 32,
   "metadata": {},
   "outputs": [],
   "source": [
    "\n",
    "group = ['positive','negative', \"neutral\"]"
   ]
  },
  {
   "cell_type": "code",
   "execution_count": 30,
   "metadata": {},
   "outputs": [],
   "source": [
    "import plotly.express as px\n"
   ]
  },
  {
   "cell_type": "code",
   "execution_count": 37,
   "metadata": {},
   "outputs": [],
   "source": [
    "fig = px.pie(group, values=counts, title='Sentiments')"
   ]
  }
 ],
 "metadata": {
  "kernelspec": {
   "display_name": "text",
   "language": "python",
   "name": "python3"
  },
  "language_info": {
   "codemirror_mode": {
    "name": "ipython",
    "version": 3
   },
   "file_extension": ".py",
   "mimetype": "text/x-python",
   "name": "python",
   "nbconvert_exporter": "python",
   "pygments_lexer": "ipython3",
   "version": "3.12.0"
  }
 },
 "nbformat": 4,
 "nbformat_minor": 2
}
