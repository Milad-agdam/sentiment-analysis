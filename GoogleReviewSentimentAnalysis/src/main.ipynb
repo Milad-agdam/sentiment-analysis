{
 "cells": [
  {
   "cell_type": "code",
   "execution_count": 74,
   "metadata": {},
   "outputs": [],
   "source": [
    "import nltk\n",
    "import pandas as pd\n",
    "import re\n",
    "import string\n",
    "from nltk.corpus import stopwords\n",
    "from nltk.stem import WordNetLemmatizer\n",
    "from nltk.sentiment import SentimentIntensityAnalyzer\n",
    "import emoji\n",
    "import matplotlib.pyplot as plt\n",
    "\n",
    "\n",
    "\n"
   ]
  },
  {
   "cell_type": "code",
   "execution_count": 57,
   "metadata": {},
   "outputs": [],
   "source": [
    "df = pd.read_csv('output.csv')"
   ]
  },
  {
   "cell_type": "code",
   "execution_count": 58,
   "metadata": {},
   "outputs": [
    {
     "data": {
      "text/html": [
       "<div>\n",
       "<style scoped>\n",
       "    .dataframe tbody tr th:only-of-type {\n",
       "        vertical-align: middle;\n",
       "    }\n",
       "\n",
       "    .dataframe tbody tr th {\n",
       "        vertical-align: top;\n",
       "    }\n",
       "\n",
       "    .dataframe thead th {\n",
       "        text-align: right;\n",
       "    }\n",
       "</style>\n",
       "<table border=\"1\" class=\"dataframe\">\n",
       "  <thead>\n",
       "    <tr style=\"text-align: right;\">\n",
       "      <th></th>\n",
       "      <th>comment</th>\n",
       "    </tr>\n",
       "  </thead>\n",
       "  <tbody>\n",
       "    <tr>\n",
       "      <th>0</th>\n",
       "      <td>Always good food from Hoagies, love their chic...</td>\n",
       "    </tr>\n",
       "    <tr>\n",
       "      <th>1</th>\n",
       "      <td>Fried pickles and honey mayo - amazing</td>\n",
       "    </tr>\n",
       "    <tr>\n",
       "      <th>2</th>\n",
       "      <td>Great value and yummy food. Falafal burger was...</td>\n",
       "    </tr>\n",
       "    <tr>\n",
       "      <th>3</th>\n",
       "      <td>Yummy</td>\n",
       "    </tr>\n",
       "    <tr>\n",
       "      <th>4</th>\n",
       "      <td>The food is consistently excellent and the sta...</td>\n",
       "    </tr>\n",
       "  </tbody>\n",
       "</table>\n",
       "</div>"
      ],
      "text/plain": [
       "                                             comment\n",
       "0  Always good food from Hoagies, love their chic...\n",
       "1             Fried pickles and honey mayo - amazing\n",
       "2  Great value and yummy food. Falafal burger was...\n",
       "3                                              Yummy\n",
       "4  The food is consistently excellent and the sta..."
      ]
     },
     "execution_count": 58,
     "metadata": {},
     "output_type": "execute_result"
    }
   ],
   "source": [
    "df.head()"
   ]
  },
  {
   "cell_type": "code",
   "execution_count": 59,
   "metadata": {},
   "outputs": [
    {
     "data": {
      "text/plain": [
       "(72736, 1)"
      ]
     },
     "execution_count": 59,
     "metadata": {},
     "output_type": "execute_result"
    }
   ],
   "source": [
    "df.shape"
   ]
  },
  {
   "cell_type": "code",
   "execution_count": 60,
   "metadata": {},
   "outputs": [
    {
     "data": {
      "text/plain": [
       "comment    0\n",
       "dtype: int64"
      ]
     },
     "execution_count": 60,
     "metadata": {},
     "output_type": "execute_result"
    }
   ],
   "source": [
    "# detect rows with missing reviews\n",
    "df.isnull().sum()"
   ]
  },
  {
   "cell_type": "code",
   "execution_count": 61,
   "metadata": {},
   "outputs": [],
   "source": [
    "def clean_text(text):\n",
    "    # Convert text to lowercase\n",
    "    text = text.lower()\n",
    "    # Remove numbers\n",
    "    text = re.sub(r'\\d+', '', text)\n",
    "    # Remove punctuation\n",
    "    text = text.translate(str.maketrans('', '', string.punctuation))\n",
    "    # Remove whitespaces\n",
    "    text = text.strip()\n",
    "    return text\n",
    "    \n",
    "    "
   ]
  },
  {
   "cell_type": "code",
   "execution_count": 62,
   "metadata": {},
   "outputs": [],
   "source": [
    "def tokenize(text):\n",
    "    # split the text into individual words\n",
    "    return text.split()"
   ]
  },
  {
   "cell_type": "code",
   "execution_count": 63,
   "metadata": {},
   "outputs": [],
   "source": [
    "stop_words = set(stopwords.words('english'))\n",
    "\n",
    "def remove_stopwords(tokens):\n",
    "    #Remove common words that usually don’t carry important meaning.\n",
    "    return [word for word in tokens if not word in stop_words]"
   ]
  },
  {
   "cell_type": "code",
   "execution_count": 64,
   "metadata": {},
   "outputs": [],
   "source": [
    "lemmatizer = WordNetLemmatizer()\n",
    "\n",
    "def lemmatize_tokens(tokens):\n",
    "    return [lemmatizer.lemmatize(token) for token in tokens]"
   ]
  },
  {
   "cell_type": "code",
   "execution_count": 65,
   "metadata": {},
   "outputs": [],
   "source": [
    "def rejoin_tokens(tokens):\n",
    "    return ' '.join(tokens)"
   ]
  },
  {
   "cell_type": "code",
   "execution_count": 66,
   "metadata": {},
   "outputs": [],
   "source": [
    "def remove_emojis(text):\n",
    "    # Remove emojis from the text\n",
    "    cleaned_text = emoji.demojize(text)\n",
    "    return cleaned_text"
   ]
  },
  {
   "cell_type": "code",
   "execution_count": 67,
   "metadata": {},
   "outputs": [],
   "source": [
    "positive_words = set([\"legend\",\"good\", \"excellent\", \"awesome\", \"amazing\", \"fantastic\", \"finest\", \"fantastic\", \"quick\"])\n",
    "\n",
    "# Function to adjust sentiment based on positive words\n",
    "def adjust_sentiment_based_on_positive_words(text, sentiment_score):\n",
    "    # Check if any positive words are present in the text\n",
    "    if any(word in text for word in positive_words):\n",
    "        # Increase the sentiment score (adjust as needed)\n",
    "        sentiment_score += 0.1\n",
    "    return sentiment_score"
   ]
  },
  {
   "cell_type": "code",
   "execution_count": 68,
   "metadata": {},
   "outputs": [],
   "source": [
    "def preprocess_pipeline(text):\n",
    "    # Chain your preprocessing functions\n",
    "    text = clean_text(text)\n",
    "    tokens = tokenize(text)\n",
    "    tokens = remove_stopwords(tokens)\n",
    "    tokens = lemmatize_tokens(tokens)\n",
    "    text = rejoin_tokens(tokens)\n",
    "    text = remove_emojis(text)\n",
    "    return text\n",
    "\n"
   ]
  },
  {
   "cell_type": "code",
   "execution_count": 69,
   "metadata": {},
   "outputs": [],
   "source": [
    "# Apply the preprocessing pipeline to your text column\n",
    "df['cleaned_review'] = df['comment'].apply(preprocess_pipeline)"
   ]
  },
  {
   "cell_type": "code",
   "execution_count": 70,
   "metadata": {},
   "outputs": [
    {
     "data": {
      "text/html": [
       "<div>\n",
       "<style scoped>\n",
       "    .dataframe tbody tr th:only-of-type {\n",
       "        vertical-align: middle;\n",
       "    }\n",
       "\n",
       "    .dataframe tbody tr th {\n",
       "        vertical-align: top;\n",
       "    }\n",
       "\n",
       "    .dataframe thead th {\n",
       "        text-align: right;\n",
       "    }\n",
       "</style>\n",
       "<table border=\"1\" class=\"dataframe\">\n",
       "  <thead>\n",
       "    <tr style=\"text-align: right;\">\n",
       "      <th></th>\n",
       "      <th>comment</th>\n",
       "      <th>cleaned_review</th>\n",
       "    </tr>\n",
       "  </thead>\n",
       "  <tbody>\n",
       "    <tr>\n",
       "      <th>0</th>\n",
       "      <td>Always good food from Hoagies, love their chic...</td>\n",
       "      <td>always good food hoagy love chicken burger fry...</td>\n",
       "    </tr>\n",
       "    <tr>\n",
       "      <th>1</th>\n",
       "      <td>Fried pickles and honey mayo - amazing</td>\n",
       "      <td>fried pickle honey mayo amazing</td>\n",
       "    </tr>\n",
       "    <tr>\n",
       "      <th>2</th>\n",
       "      <td>Great value and yummy food. Falafal burger was...</td>\n",
       "      <td>great value yummy food falafal burger yum reco...</td>\n",
       "    </tr>\n",
       "    <tr>\n",
       "      <th>3</th>\n",
       "      <td>Yummy</td>\n",
       "      <td>yummy</td>\n",
       "    </tr>\n",
       "    <tr>\n",
       "      <th>4</th>\n",
       "      <td>The food is consistently excellent and the sta...</td>\n",
       "      <td>food consistently excellent staff always reall...</td>\n",
       "    </tr>\n",
       "    <tr>\n",
       "      <th>...</th>\n",
       "      <td>...</td>\n",
       "      <td>...</td>\n",
       "    </tr>\n",
       "    <tr>\n",
       "      <th>72731</th>\n",
       "      <td>Really enjoyed our food. All freshly made and ...</td>\n",
       "      <td>really enjoyed food freshly made tasty ready q...</td>\n",
       "    </tr>\n",
       "    <tr>\n",
       "      <th>72732</th>\n",
       "      <td>This place is rotten 12inch munchie box in bin...</td>\n",
       "      <td>place rotten inch munchie box bin plus menu bo...</td>\n",
       "    </tr>\n",
       "    <tr>\n",
       "      <th>72733</th>\n",
       "      <td>What a gem of a takeaway. Food always hot and ...</td>\n",
       "      <td>gem takeaway food always hot delicious staff a...</td>\n",
       "    </tr>\n",
       "    <tr>\n",
       "      <th>72734</th>\n",
       "      <td>Fantastic  !South  indian garlic  chilli is th...</td>\n",
       "      <td>fantastic south indian garlic chilli best bett...</td>\n",
       "    </tr>\n",
       "    <tr>\n",
       "      <th>72735</th>\n",
       "      <td>Fantastic Food &amp; Qui k Delivery...</td>\n",
       "      <td>fantastic food qui k delivery</td>\n",
       "    </tr>\n",
       "  </tbody>\n",
       "</table>\n",
       "<p>72736 rows × 2 columns</p>\n",
       "</div>"
      ],
      "text/plain": [
       "                                                 comment  \\\n",
       "0      Always good food from Hoagies, love their chic...   \n",
       "1                 Fried pickles and honey mayo - amazing   \n",
       "2      Great value and yummy food. Falafal burger was...   \n",
       "3                                                  Yummy   \n",
       "4      The food is consistently excellent and the sta...   \n",
       "...                                                  ...   \n",
       "72731  Really enjoyed our food. All freshly made and ...   \n",
       "72732  This place is rotten 12inch munchie box in bin...   \n",
       "72733  What a gem of a takeaway. Food always hot and ...   \n",
       "72734  Fantastic  !South  indian garlic  chilli is th...   \n",
       "72735                 Fantastic Food & Qui k Delivery...   \n",
       "\n",
       "                                          cleaned_review  \n",
       "0      always good food hoagy love chicken burger fry...  \n",
       "1                        fried pickle honey mayo amazing  \n",
       "2      great value yummy food falafal burger yum reco...  \n",
       "3                                                  yummy  \n",
       "4      food consistently excellent staff always reall...  \n",
       "...                                                  ...  \n",
       "72731  really enjoyed food freshly made tasty ready q...  \n",
       "72732  place rotten inch munchie box bin plus menu bo...  \n",
       "72733  gem takeaway food always hot delicious staff a...  \n",
       "72734  fantastic south indian garlic chilli best bett...  \n",
       "72735                      fantastic food qui k delivery  \n",
       "\n",
       "[72736 rows x 2 columns]"
      ]
     },
     "execution_count": 70,
     "metadata": {},
     "output_type": "execute_result"
    }
   ],
   "source": [
    "df"
   ]
  },
  {
   "cell_type": "code",
   "execution_count": 71,
   "metadata": {},
   "outputs": [],
   "source": [
    "# Initialize the SentimentIntensityAnalyzer\n",
    "sia = SentimentIntensityAnalyzer()\n",
    "\n",
    "# Analyze sentiment and create a new column\n",
    "df['sentiment_score'] = df.apply(lambda row: sia.polarity_scores(row['cleaned_review'])['compound'], axis=1)\n",
    "\n",
    "# Adjust sentiment based on positive words\n",
    "df['sentiment_score'] = df.apply(lambda row: adjust_sentiment_based_on_positive_words(row['cleaned_review'], row['sentiment_score']), axis=1)\n",
    "# Define a function to label sentiments\n",
    "def label_sentiment(score):\n",
    "    if score >= 0.05:\n",
    "        return 'positive'\n",
    "    elif score <= -0.05:\n",
    "        return 'negative'\n",
    "    else:\n",
    "        return 'neutral'\n",
    "\n",
    "# Apply the function to create a new column with sentiment labels\n",
    "df['sentiment_label'] = df['sentiment_score'].apply(label_sentiment)"
   ]
  },
  {
   "cell_type": "code",
   "execution_count": 78,
   "metadata": {},
   "outputs": [
    {
     "data": {
      "text/html": [
       "<div>\n",
       "<style scoped>\n",
       "    .dataframe tbody tr th:only-of-type {\n",
       "        vertical-align: middle;\n",
       "    }\n",
       "\n",
       "    .dataframe tbody tr th {\n",
       "        vertical-align: top;\n",
       "    }\n",
       "\n",
       "    .dataframe thead th {\n",
       "        text-align: right;\n",
       "    }\n",
       "</style>\n",
       "<table border=\"1\" class=\"dataframe\">\n",
       "  <thead>\n",
       "    <tr style=\"text-align: right;\">\n",
       "      <th></th>\n",
       "      <th>comment</th>\n",
       "      <th>cleaned_review</th>\n",
       "      <th>sentiment_score</th>\n",
       "      <th>sentiment_label</th>\n",
       "    </tr>\n",
       "  </thead>\n",
       "  <tbody>\n",
       "    <tr>\n",
       "      <th>12629</th>\n",
       "      <td>Beautifull</td>\n",
       "      <td>beautifull</td>\n",
       "      <td>0.0</td>\n",
       "      <td>neutral</td>\n",
       "    </tr>\n",
       "    <tr>\n",
       "      <th>10549</th>\n",
       "      <td>👌</td>\n",
       "      <td>:OK_hand:</td>\n",
       "      <td>0.0</td>\n",
       "      <td>neutral</td>\n",
       "    </tr>\n",
       "    <tr>\n",
       "      <th>32456</th>\n",
       "      <td>Kabeda kebab to spicy and dry</td>\n",
       "      <td>kabeda kebab spicy dry</td>\n",
       "      <td>0.0</td>\n",
       "      <td>neutral</td>\n",
       "    </tr>\n",
       "    <tr>\n",
       "      <th>18280</th>\n",
       "      <td>came in hella munchy and absolutely ate that p...</td>\n",
       "      <td>came hella munchy absolutely ate pizza mar bar...</td>\n",
       "      <td>0.0</td>\n",
       "      <td>neutral</td>\n",
       "    </tr>\n",
       "    <tr>\n",
       "      <th>6312</th>\n",
       "      <td>Amazeing hot food served here</td>\n",
       "      <td>amazeing hot food served</td>\n",
       "      <td>0.0</td>\n",
       "      <td>neutral</td>\n",
       "    </tr>\n",
       "    <tr>\n",
       "      <th>44983</th>\n",
       "      <td>3.5 hours for delivery of an undercooked pizza...</td>\n",
       "      <td>hour delivery undercooked pizza never</td>\n",
       "      <td>0.0</td>\n",
       "      <td>neutral</td>\n",
       "    </tr>\n",
       "    <tr>\n",
       "      <th>2068</th>\n",
       "      <td>Don't get there enough</td>\n",
       "      <td>dont get enough</td>\n",
       "      <td>0.0</td>\n",
       "      <td>neutral</td>\n",
       "    </tr>\n",
       "    <tr>\n",
       "      <th>10575</th>\n",
       "      <td>Opening times and days are incorrect on google.</td>\n",
       "      <td>opening time day incorrect google</td>\n",
       "      <td>0.0</td>\n",
       "      <td>neutral</td>\n",
       "    </tr>\n",
       "    <tr>\n",
       "      <th>38014</th>\n",
       "      <td>First time being in food exellent</td>\n",
       "      <td>first time food exellent</td>\n",
       "      <td>0.0</td>\n",
       "      <td>neutral</td>\n",
       "    </tr>\n",
       "    <tr>\n",
       "      <th>55662</th>\n",
       "      <td>Only went in for chips &amp; gravy… 20 mins later ...</td>\n",
       "      <td>went chip gravy… min later handed carton chip ...</td>\n",
       "      <td>0.0</td>\n",
       "      <td>neutral</td>\n",
       "    </tr>\n",
       "  </tbody>\n",
       "</table>\n",
       "</div>"
      ],
      "text/plain": [
       "                                                 comment  \\\n",
       "12629                                         Beautifull   \n",
       "10549                                                  👌   \n",
       "32456                      Kabeda kebab to spicy and dry   \n",
       "18280  came in hella munchy and absolutely ate that p...   \n",
       "6312                       Amazeing hot food served here   \n",
       "44983  3.5 hours for delivery of an undercooked pizza...   \n",
       "2068                              Don't get there enough   \n",
       "10575    Opening times and days are incorrect on google.   \n",
       "38014                  First time being in food exellent   \n",
       "55662  Only went in for chips & gravy… 20 mins later ...   \n",
       "\n",
       "                                          cleaned_review  sentiment_score  \\\n",
       "12629                                         beautifull              0.0   \n",
       "10549                                          :OK_hand:              0.0   \n",
       "32456                             kabeda kebab spicy dry              0.0   \n",
       "18280  came hella munchy absolutely ate pizza mar bar...              0.0   \n",
       "6312                            amazeing hot food served              0.0   \n",
       "44983              hour delivery undercooked pizza never              0.0   \n",
       "2068                                     dont get enough              0.0   \n",
       "10575                  opening time day incorrect google              0.0   \n",
       "38014                           first time food exellent              0.0   \n",
       "55662  went chip gravy… min later handed carton chip ...              0.0   \n",
       "\n",
       "      sentiment_label  \n",
       "12629         neutral  \n",
       "10549         neutral  \n",
       "32456         neutral  \n",
       "18280         neutral  \n",
       "6312          neutral  \n",
       "44983         neutral  \n",
       "2068          neutral  \n",
       "10575         neutral  \n",
       "38014         neutral  \n",
       "55662         neutral  "
      ]
     },
     "execution_count": 78,
     "metadata": {},
     "output_type": "execute_result"
    }
   ],
   "source": [
    "df[df['sentiment_label']== 'neutral'].sample(10)"
   ]
  },
  {
   "cell_type": "code",
   "execution_count": 75,
   "metadata": {},
   "outputs": [
    {
     "data": {
      "image/png": "[encoded data removed]",
      "text/plain": [
       "<Figure size 800x600 with 1 Axes>"
      ]
     },
     "metadata": {},
     "output_type": "display_data"
    }
   ],
   "source": [
    "# Count the occurrences of each sentiment label\n",
    "sentiment_counts = df['sentiment_label'].value_counts()\n",
    "\n",
    "# Plot the sentiment distribution\n",
    "plt.figure(figsize=(8, 6))\n",
    "sentiment_counts.plot(kind='bar', color=['red', 'green', 'blue'])\n",
    "plt.title('Sentiment Distribution')\n",
    "plt.xlabel('Sentiment')\n",
    "plt.ylabel('Count')\n",
    "plt.show()"
   ]
  },
  {
   "cell_type": "code",
   "execution_count": 76,
   "metadata": {},
   "outputs": [
    {
     "name": "stdout",
     "output_type": "stream",
     "text": [
      "Sentiment Percentage Breakdown:\n",
      "sentiment_label\n",
      "positive    76.134239\n",
      "negative    16.437527\n",
      "neutral      7.428234\n",
      "Name: count, dtype: float64\n"
     ]
    }
   ],
   "source": [
    "# Calculate the percentage of each sentiment label\n",
    "sentiment_percentages = sentiment_counts / len(df) * 100\n",
    "\n",
    "# Display the percentage breakdown\n",
    "print(\"Sentiment Percentage Breakdown:\")\n",
    "print(sentiment_percentages)"
   ]
  },
  {
   "cell_type": "code",
   "execution_count": 80,
   "metadata": {},
   "outputs": [],
   "source": [
    "import seaborn as sns"
   ]
  },
  {
   "cell_type": "code",
   "execution_count": 91,
   "metadata": {},
   "outputs": [
    {
     "data": {
      "image/png": "[encoded data removed]",
      "text/plain": [
       "<Figure size 640x480 with 1 Axes>"
      ]
     },
     "metadata": {},
     "output_type": "display_data"
    }
   ],
   "source": [
    "piechart = df.sentiment_label.value_counts().plot(kind='pie')\n",
    "plt.axis('equal');\n"
   ]
  }
 ],
 "metadata": {
  "kernelspec": {
   "display_name": "text",
   "language": "python",
   "name": "python3"
  },
  "language_info": {
   "codemirror_mode": {
    "name": "ipython",
    "version": 3
   },
   "file_extension": ".py",
   "mimetype": "text/x-python",
   "name": "python",
   "nbconvert_exporter": "python",
   "pygments_lexer": "ipython3",
   "version": "3.12.0"
  }
 },
 "nbformat": 4,
 "nbformat_minor": 2
}
